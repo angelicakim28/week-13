{
 "cells": [
  {
   "cell_type": "markdown",
   "metadata": {
    "slideshow": {
     "slide_type": "slide"
    }
   },
   "source": [
    "## Week 13: Dashboarding with Panel and the PyViz Ecosystem\n",
    "\n",
    "May 1, 2019"
   ]
  },
  {
   "cell_type": "markdown",
   "metadata": {
    "slideshow": {
     "slide_type": "slide"
    }
   },
   "source": [
    "## Last class!\n",
    "\n",
    "- Interactive dashboards with the PyViz Ecosystem\n",
    "- Combine all the tools: Altair, Holoviews, GeoViews, Datashader, Folium\n",
    "- We'll walk through two example dashboards\n",
    "- Review final project and dashboarding options\n",
    "- Time to work on final project, ask questions, etc."
   ]
  },
  {
   "cell_type": "markdown",
   "metadata": {
    "slideshow": {
     "slide_type": "slide"
    }
   },
   "source": [
    "## Housekeeping\n",
    "\n",
    "- Still finishing reading through final project proposals\n",
    "    - Feedback via email in the next few days\n",
    "- Remainings homework solutions have been posted, grades back next week   \n",
    "- Final project due: **5pm on Monday May 13th** \n",
    "\n",
    "**Final project details:** https://github.com/MUSA-620-Spring-2019/final-project"
   ]
  },
  {
   "cell_type": "markdown",
   "metadata": {
    "slideshow": {
     "slide_type": "subslide"
    }
   },
   "source": [
    "## Office Hours Poll\n",
    "\n",
    "https://doodle.com/poll/uey3w7at5zvp4tmx"
   ]
  },
  {
   "cell_type": "markdown",
   "metadata": {
    "slideshow": {
     "slide_type": "slide"
    }
   },
   "source": [
    "## Last time\n",
    "\n",
    "- Example: Github Pages + Observable + Leaflet\n",
    "- Introduction to web servers\n",
    "- Dashboards with Flask + Altair\n",
    "- Dashboards with Dash"
   ]
  },
  {
   "cell_type": "markdown",
   "metadata": {
    "slideshow": {
     "slide_type": "slide"
    }
   },
   "source": [
    "## One more Dash example: Dash + Folium\n",
    "\n",
    "- Since Folium plots can be converted to HTML, they can be displayed in Dash apps as HTML IFrame elements\n",
    "- We can use Dash widgets to control what gets displayed on the map"
   ]
  },
  {
   "cell_type": "markdown",
   "metadata": {
    "slideshow": {
     "slide_type": "subslide"
    }
   },
   "source": [
    "## Dash + Folium example\n",
    "\n",
    "From the base repository folder, run\n",
    "\n",
    "```\n",
    "cd dash-folium\n",
    "python app.py\n",
    "```\n",
    "\n",
    "to start the example"
   ]
  },
  {
   "cell_type": "markdown",
   "metadata": {
    "slideshow": {
     "slide_type": "slide"
    }
   },
   "source": [
    "## Web-based visualizations so far\n",
    "\n",
    "1. Github Pages via [MUSA-620-Spring-2019/data-viz-template](https://github.com/MUSA-620-Spring-2019/data-viz-template)\n",
    "    - Supports: Observable cells, Folium, Altair, Holoviews, HTML files via IFrames\n",
    "1. Flask/Dash \n",
    "    - Supports: Folium, Altair, Holoviews, HTML files via IFrames"
   ]
  },
  {
   "cell_type": "markdown",
   "metadata": {
    "slideshow": {
     "slide_type": "subslide"
    }
   },
   "source": [
    "## The downside of these options\n",
    "\n",
    "- Github Pages is static — only user interaction comes from what is built in to the chart\n",
    "- Observable requires you to work with Javascript\n",
    "- Flask/Dash has server support, but IFrame based visualizations still can't talk to each other\n",
    "\n",
    "**Goal:** a Python-based solution with server support where visualizations from different libraries can interact with each other"
   ]
  },
  {
   "cell_type": "markdown",
   "metadata": {
    "slideshow": {
     "slide_type": "slide"
    }
   },
   "source": [
    "## Saving the best for last: Panel\n",
    "\n",
    "<a href=\"https://panel.pyviz.org/\" ><img src=\"imgs/panel_logo.png\" width=300></a>"
   ]
  },
  {
   "cell_type": "markdown",
   "metadata": {
    "slideshow": {
     "slide_type": "subslide"
    }
   },
   "source": [
    "## A high-level dashboarding solution in Python\n",
    "\n",
    "- Relatively new, but the most promising dashboard library so far\n",
    "- Supports nearly all plotting libraries\n",
    "- Works just as well in a Jupyter notebook as on a standalone secure web server\n",
    "- Large set of interactive widgets"
   ]
  },
  {
   "cell_type": "markdown",
   "metadata": {
    "slideshow": {
     "slide_type": "subslide"
    }
   },
   "source": [
    "## Very general too...\n",
    "\n",
    "- Multi-page layouts via tabs [See this page](https://panel.pyviz.org/user_guide/Components.html)\n",
    "- Can include custom CSS / Javascript as well"
   ]
  },
  {
   "cell_type": "markdown",
   "metadata": {
    "slideshow": {
     "slide_type": "slide"
    }
   },
   "source": [
    "**Crucial feature: supports live dashboarding code in a Jupyter notebook and deploying same code to a server**\n",
    "\n",
    "Only library to support entire data wrangling workflow in a Jupyter notebook"
   ]
  },
  {
   "cell_type": "markdown",
   "metadata": {
    "slideshow": {
     "slide_type": "slide"
    }
   },
   "source": [
    "<img src=\"imgs/panel_comparison.png\" width=800>\n",
    "\n",
    "See [Panel FAQ](https://panel.pyviz.org/FAQ.html)"
   ]
  },
  {
   "cell_type": "markdown",
   "metadata": {
    "slideshow": {
     "slide_type": "slide"
    }
   },
   "source": [
    "## Built on top of the PyViz ecosystem\n",
    "\n",
    "<img src=\"imgs/pyviz.png\" width=600>"
   ]
  },
  {
   "cell_type": "markdown",
   "metadata": {
    "slideshow": {
     "slide_type": "subslide"
    }
   },
   "source": [
    "**Also important: Panel provides only support for Datashader and visualizing large datasets**"
   ]
  },
  {
   "cell_type": "markdown",
   "metadata": {
    "slideshow": {
     "slide_type": "slide"
    }
   },
   "source": [
    "## Today's Plan\n",
    "\n",
    "We'll walk through two examples that can serve as reference/templates for the final project:\n",
    "\n",
    "1. [Visualizing recent shootings in Philadelphia using Altair, Folium, and Holoviews](https://github.com/MUSA-620-Spring-2019/philadelphia-shootings-app)\n",
    "1. [Visualizing NYC taxi trips with Datashader and Altair](https://github.com/MUSA-620-Spring-2019/datashader-nyc-taxi-app)"
   ]
  },
  {
   "cell_type": "markdown",
   "metadata": {
    "slideshow": {
     "slide_type": "slide"
    }
   },
   "source": [
    "## But first: an introduction to Python classes\n",
    "\n",
    "Let's take a quick look at [this nice tutorial](http://www.jesshamrick.com/2011/05/18/an-introduction-to-classes-and-inheritance-in-python/)"
   ]
  },
  {
   "cell_type": "markdown",
   "metadata": {
    "slideshow": {
     "slide_type": "slide"
    }
   },
   "source": [
    "## Back to Panel..."
   ]
  },
  {
   "cell_type": "markdown",
   "metadata": {
    "slideshow": {
     "slide_type": "subslide"
    }
   },
   "source": [
    "## Example 1: Philadelphia shootings\n",
    "\n",
    "Tools: Panel, Holoviews, Altair, Folium\n",
    "\n",
    "https://github.com/MUSA-620-Spring-2019/philadelphia-shootings-app"
   ]
  },
  {
   "cell_type": "markdown",
   "metadata": {
    "slideshow": {
     "slide_type": "subslide"
    }
   },
   "source": [
    "## Example 2: NYC Taxi Trips\n",
    "\n",
    "Tools: Panel, Holoviews, Altair, Datashader\n",
    "\n",
    "\n",
    "https://github.com/MUSA-620-Spring-2019/datashader-nyc-taxi-app"
   ]
  },
  {
   "cell_type": "markdown",
   "metadata": {
    "slideshow": {
     "slide_type": "slide"
    }
   },
   "source": [
    "## Web-based visualization options for the final project\n",
    "\n",
    "- Github Pages\n",
    "- Flask/Dash\n",
    "- Panel\n",
    "\n",
    "[See this outline of the options](./WebVisualizationOptions.md)"
   ]
  }
 ],
 "metadata": {
  "celltoolbar": "Slideshow",
  "kernelspec": {
   "display_name": "Python 3",
   "language": "python",
   "name": "python3"
  },
  "language_info": {
   "codemirror_mode": {
    "name": "ipython",
    "version": 3
   },
   "file_extension": ".py",
   "mimetype": "text/x-python",
   "name": "python",
   "nbconvert_exporter": "python",
   "pygments_lexer": "ipython3",
   "version": "3.6.8"
  }
 },
 "nbformat": 4,
 "nbformat_minor": 2
}
